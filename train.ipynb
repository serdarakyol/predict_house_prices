{
 "cells": [
  {
   "cell_type": "markdown",
   "metadata": {},
   "source": [
    "# Data Processing"
   ]
  },
  {
   "cell_type": "code",
   "execution_count": 1,
   "metadata": {},
   "outputs": [],
   "source": [
    "!source venv/bin/activate"
   ]
  },
  {
   "cell_type": "code",
   "execution_count": 1,
   "metadata": {},
   "outputs": [],
   "source": [
    "# Read data\n",
    "import pandas as pd\n",
    "data = pd.read_csv('nyc-rolling-sales.csv')\n",
    "pd.set_option('display.max_columns', None)"
   ]
  },
  {
   "cell_type": "code",
   "execution_count": 2,
   "metadata": {},
   "outputs": [],
   "source": [
    "# remove \"0\" and \"-\" values on SALE PRICE into DataFrame\n",
    "data_price = data[(data['SALE PRICE'] != ' -  ')]\n",
    "data_price = data_price[(data_price['SALE PRICE'] != '0')]"
   ]
  },
  {
   "cell_type": "code",
   "execution_count": 3,
   "metadata": {},
   "outputs": [
    {
     "name": "stderr",
     "output_type": "stream",
     "text": [
      "/tmp/ipykernel_33564/3573056725.py:15: SettingWithCopyWarning: \n",
      "A value is trying to be set on a copy of a slice from a DataFrame.\n",
      "Try using .loc[row_indexer,col_indexer] = value instead\n",
      "\n",
      "See the caveats in the documentation: https://pandas.pydata.org/pandas-docs/stable/user_guide/indexing.html#returning-a-view-versus-a-copy\n",
      "  fixed_df['SALE PRICE'] = np.where(fixed_df['SALE PRICE'] == '0', str(mean) + ' *', fixed_df['SALE PRICE'])\n",
      "/home/ak/Desktop/sentiment-data-visualize/env/lib/python3.8/site-packages/pandas/core/indexing.py:1732: SettingWithCopyWarning: \n",
      "A value is trying to be set on a copy of a slice from a DataFrame\n",
      "\n",
      "See the caveats in the documentation: https://pandas.pydata.org/pandas-docs/stable/user_guide/indexing.html#returning-a-view-versus-a-copy\n",
      "  self._setitem_single_block(indexer, value, name)\n"
     ]
    }
   ],
   "source": [
    "# get \"0\" values on SALE PRICE into DataFrame\n",
    "no_sale_price = data[(data['SALE PRICE'] == '0')] \n",
    "unique_zip_codes_zero_price = list(set(no_sale_price['ZIP CODE'].values))\n",
    "\n",
    "# replace zero(0) values to average based on zip code\n",
    "import numpy as np\n",
    "\n",
    "for zip_code in unique_zip_codes_zero_price:\n",
    "    # calculate average on zip code\n",
    "    df = data_price[data_price['ZIP CODE'] == zip_code]\n",
    "    mean = df['SALE PRICE'].apply(int).mean()\n",
    "    \n",
    "    # fix values\n",
    "    fixed_df = data[data['ZIP CODE'] == zip_code]\n",
    "    fixed_df['SALE PRICE'] = np.where(fixed_df['SALE PRICE'] == '0', str(mean) + ' *', fixed_df['SALE PRICE'])\n",
    "    #fixed_df['SALE PRICE'] = np.where(fixed_df['SALE PRICE'] == ' -  ', str(mean) + ' *', fixed_df['SALE PRICE'])\n",
    "    indices = fixed_df.index.to_list()\n",
    "    for i, price in enumerate(fixed_df['SALE PRICE']):\n",
    "        price_str = str(price)\n",
    "        if price_str.split(' ')[-1] == '*':\n",
    "            data['SALE PRICE'].iloc[indices[i]] = mean\n",
    "    #print(f\"zip code {zip_code}, average {str(mean)}\")"
   ]
  },
  {
   "cell_type": "code",
   "execution_count": 4,
   "metadata": {},
   "outputs": [
    {
     "name": "stderr",
     "output_type": "stream",
     "text": [
      "/tmp/ipykernel_33564/235548538.py:17: SettingWithCopyWarning: \n",
      "A value is trying to be set on a copy of a slice from a DataFrame.\n",
      "Try using .loc[row_indexer,col_indexer] = value instead\n",
      "\n",
      "See the caveats in the documentation: https://pandas.pydata.org/pandas-docs/stable/user_guide/indexing.html#returning-a-view-versus-a-copy\n",
      "  fixed_df['SALE PRICE'] = np.where(fixed_df['SALE PRICE'] == ' -  ', str(mean) + ' *', fixed_df['SALE PRICE'])\n"
     ]
    }
   ],
   "source": [
    "# get \"-\" values on SALE PRICE into DataFrame\n",
    "no_sale_price = data[(data['SALE PRICE'] == ' -  ')] #| (data['SALE PRICE'] == ' -  ')]['SALE PRICE'].value_counts()\n",
    "unique_zip_codes_none_price = list(set(no_sale_price['ZIP CODE'].values))\n",
    "\n",
    "# replace ' -  ' values to average based on zip code\n",
    "import numpy as np\n",
    "c = 0\n",
    "for zip_code in unique_zip_codes_none_price:\n",
    "    # calculate average on zip code\n",
    "    df = data_price[data_price['ZIP CODE'] == zip_code]\n",
    "    if df.shape[0]:\n",
    "        mean = df['SALE PRICE'].apply(int).mean()\n",
    "    \n",
    "        # fix values\n",
    "        fixed_df = data[data['ZIP CODE'] == zip_code]\n",
    "        #fixed_df['SALE PRICE'] = np.where(fixed_df['SALE PRICE'] == '0', str(mean) + ' *', fixed_df['SALE PRICE'])\n",
    "        fixed_df['SALE PRICE'] = np.where(fixed_df['SALE PRICE'] == ' -  ', str(mean) + ' *', fixed_df['SALE PRICE'])\n",
    "        indices = fixed_df.index.to_list()\n",
    "        for i, price in enumerate(fixed_df['SALE PRICE']):\n",
    "            price_str = str(price)\n",
    "            if price_str.split(' ')[-1] == '*':\n",
    "                c+=1\n",
    "                data['SALE PRICE'].iloc[indices[i]] = mean\n",
    "    \n",
    "    #print(f\"zip code {zip_code}, average {str(mean)}\")\n"
   ]
  },
  {
   "cell_type": "code",
   "execution_count": 5,
   "metadata": {},
   "outputs": [
    {
     "data": {
      "text/plain": [
       "(84548, 22)"
      ]
     },
     "execution_count": 5,
     "metadata": {},
     "output_type": "execute_result"
    }
   ],
   "source": [
    "data.shape"
   ]
  },
  {
   "cell_type": "code",
   "execution_count": 15,
   "metadata": {},
   "outputs": [
    {
     "data": {
      "text/plain": [
       "(60712, 22)"
      ]
     },
     "execution_count": 15,
     "metadata": {},
     "output_type": "execute_result"
    }
   ],
   "source": [
    "# remove single data\n",
    "remove_data_indices = data[data['SALE PRICE'] == ' -  '].index\n",
    "for idx in remove_data_indices:\n",
    "    data = data.drop(idx)\n",
    "\n",
    "data['SALE PRICE'] = data['SALE PRICE'].apply(int)\n",
    "data.shape"
   ]
  },
  {
   "cell_type": "code",
   "execution_count": 16,
   "metadata": {},
   "outputs": [
    {
     "data": {
      "text/html": [
       "<div>\n",
       "<style scoped>\n",
       "    .dataframe tbody tr th:only-of-type {\n",
       "        vertical-align: middle;\n",
       "    }\n",
       "\n",
       "    .dataframe tbody tr th {\n",
       "        vertical-align: top;\n",
       "    }\n",
       "\n",
       "    .dataframe thead th {\n",
       "        text-align: right;\n",
       "    }\n",
       "</style>\n",
       "<table border=\"1\" class=\"dataframe\">\n",
       "  <thead>\n",
       "    <tr style=\"text-align: right;\">\n",
       "      <th></th>\n",
       "      <th>Unnamed: 0</th>\n",
       "      <th>BOROUGH</th>\n",
       "      <th>BLOCK</th>\n",
       "      <th>LOT</th>\n",
       "      <th>ZIP CODE</th>\n",
       "      <th>RESIDENTIAL UNITS</th>\n",
       "      <th>COMMERCIAL UNITS</th>\n",
       "      <th>TOTAL UNITS</th>\n",
       "      <th>YEAR BUILT</th>\n",
       "      <th>TAX CLASS AT TIME OF SALE</th>\n",
       "      <th>SALE PRICE</th>\n",
       "    </tr>\n",
       "  </thead>\n",
       "  <tbody>\n",
       "    <tr>\n",
       "      <th>count</th>\n",
       "      <td>60712.000000</td>\n",
       "      <td>60712.000000</td>\n",
       "      <td>60712.000000</td>\n",
       "      <td>60712.000000</td>\n",
       "      <td>60712.000000</td>\n",
       "      <td>60712.000000</td>\n",
       "      <td>60712.000000</td>\n",
       "      <td>60712.000000</td>\n",
       "      <td>60712.000000</td>\n",
       "      <td>60712.000000</td>\n",
       "      <td>6.071200e+04</td>\n",
       "    </tr>\n",
       "    <tr>\n",
       "      <th>mean</th>\n",
       "      <td>10182.456467</td>\n",
       "      <td>3.226216</td>\n",
       "      <td>4639.536270</td>\n",
       "      <td>365.573956</td>\n",
       "      <td>10916.089752</td>\n",
       "      <td>2.757511</td>\n",
       "      <td>0.268925</td>\n",
       "      <td>3.059000</td>\n",
       "      <td>1951.350392</td>\n",
       "      <td>1.498847</td>\n",
       "      <td>1.549935e+06</td>\n",
       "    </tr>\n",
       "    <tr>\n",
       "      <th>std</th>\n",
       "      <td>7410.989908</td>\n",
       "      <td>1.199734</td>\n",
       "      <td>3686.221825</td>\n",
       "      <td>604.644249</td>\n",
       "      <td>605.756029</td>\n",
       "      <td>19.649655</td>\n",
       "      <td>10.281249</td>\n",
       "      <td>22.306627</td>\n",
       "      <td>37.034456</td>\n",
       "      <td>0.843349</td>\n",
       "      <td>1.200780e+07</td>\n",
       "    </tr>\n",
       "    <tr>\n",
       "      <th>min</th>\n",
       "      <td>4.000000</td>\n",
       "      <td>1.000000</td>\n",
       "      <td>1.000000</td>\n",
       "      <td>1.000000</td>\n",
       "      <td>0.000000</td>\n",
       "      <td>0.000000</td>\n",
       "      <td>0.000000</td>\n",
       "      <td>1.000000</td>\n",
       "      <td>1680.000000</td>\n",
       "      <td>1.000000</td>\n",
       "      <td>1.000000e+00</td>\n",
       "    </tr>\n",
       "    <tr>\n",
       "      <th>25%</th>\n",
       "      <td>3910.000000</td>\n",
       "      <td>3.000000</td>\n",
       "      <td>1512.750000</td>\n",
       "      <td>25.000000</td>\n",
       "      <td>10314.000000</td>\n",
       "      <td>1.000000</td>\n",
       "      <td>0.000000</td>\n",
       "      <td>1.000000</td>\n",
       "      <td>1920.000000</td>\n",
       "      <td>1.000000</td>\n",
       "      <td>4.825910e+05</td>\n",
       "    </tr>\n",
       "    <tr>\n",
       "      <th>50%</th>\n",
       "      <td>8245.000000</td>\n",
       "      <td>3.000000</td>\n",
       "      <td>3972.000000</td>\n",
       "      <td>53.000000</td>\n",
       "      <td>11215.000000</td>\n",
       "      <td>1.000000</td>\n",
       "      <td>0.000000</td>\n",
       "      <td>1.000000</td>\n",
       "      <td>1940.000000</td>\n",
       "      <td>1.000000</td>\n",
       "      <td>7.308550e+05</td>\n",
       "    </tr>\n",
       "    <tr>\n",
       "      <th>75%</th>\n",
       "      <td>16222.000000</td>\n",
       "      <td>4.000000</td>\n",
       "      <td>6749.000000</td>\n",
       "      <td>655.500000</td>\n",
       "      <td>11360.000000</td>\n",
       "      <td>2.000000</td>\n",
       "      <td>0.000000</td>\n",
       "      <td>2.000000</td>\n",
       "      <td>1986.000000</td>\n",
       "      <td>2.000000</td>\n",
       "      <td>1.217946e+06</td>\n",
       "    </tr>\n",
       "    <tr>\n",
       "      <th>max</th>\n",
       "      <td>26739.000000</td>\n",
       "      <td>5.000000</td>\n",
       "      <td>16322.000000</td>\n",
       "      <td>8160.000000</td>\n",
       "      <td>11694.000000</td>\n",
       "      <td>1844.000000</td>\n",
       "      <td>2261.000000</td>\n",
       "      <td>2261.000000</td>\n",
       "      <td>2017.000000</td>\n",
       "      <td>4.000000</td>\n",
       "      <td>2.210000e+09</td>\n",
       "    </tr>\n",
       "  </tbody>\n",
       "</table>\n",
       "</div>"
      ],
      "text/plain": [
       "         Unnamed: 0       BOROUGH         BLOCK           LOT      ZIP CODE  \\\n",
       "count  60712.000000  60712.000000  60712.000000  60712.000000  60712.000000   \n",
       "mean   10182.456467      3.226216   4639.536270    365.573956  10916.089752   \n",
       "std     7410.989908      1.199734   3686.221825    604.644249    605.756029   \n",
       "min        4.000000      1.000000      1.000000      1.000000      0.000000   \n",
       "25%     3910.000000      3.000000   1512.750000     25.000000  10314.000000   \n",
       "50%     8245.000000      3.000000   3972.000000     53.000000  11215.000000   \n",
       "75%    16222.000000      4.000000   6749.000000    655.500000  11360.000000   \n",
       "max    26739.000000      5.000000  16322.000000   8160.000000  11694.000000   \n",
       "\n",
       "       RESIDENTIAL UNITS  COMMERCIAL UNITS   TOTAL UNITS    YEAR BUILT  \\\n",
       "count       60712.000000      60712.000000  60712.000000  60712.000000   \n",
       "mean            2.757511          0.268925      3.059000   1951.350392   \n",
       "std            19.649655         10.281249     22.306627     37.034456   \n",
       "min             0.000000          0.000000      1.000000   1680.000000   \n",
       "25%             1.000000          0.000000      1.000000   1920.000000   \n",
       "50%             1.000000          0.000000      1.000000   1940.000000   \n",
       "75%             2.000000          0.000000      2.000000   1986.000000   \n",
       "max          1844.000000       2261.000000   2261.000000   2017.000000   \n",
       "\n",
       "       TAX CLASS AT TIME OF SALE    SALE PRICE  \n",
       "count               60712.000000  6.071200e+04  \n",
       "mean                    1.498847  1.549935e+06  \n",
       "std                     0.843349  1.200780e+07  \n",
       "min                     1.000000  1.000000e+00  \n",
       "25%                     1.000000  4.825910e+05  \n",
       "50%                     1.000000  7.308550e+05  \n",
       "75%                     2.000000  1.217946e+06  \n",
       "max                     4.000000  2.210000e+09  "
      ]
     },
     "execution_count": 16,
     "metadata": {},
     "output_type": "execute_result"
    }
   ],
   "source": [
    "data.describe()"
   ]
  },
  {
   "cell_type": "code",
   "execution_count": 8,
   "metadata": {},
   "outputs": [
    {
     "data": {
      "text/html": [
       "<div>\n",
       "<style scoped>\n",
       "    .dataframe tbody tr th:only-of-type {\n",
       "        vertical-align: middle;\n",
       "    }\n",
       "\n",
       "    .dataframe tbody tr th {\n",
       "        vertical-align: top;\n",
       "    }\n",
       "\n",
       "    .dataframe thead th {\n",
       "        text-align: right;\n",
       "    }\n",
       "</style>\n",
       "<table border=\"1\" class=\"dataframe\">\n",
       "  <thead>\n",
       "    <tr style=\"text-align: right;\">\n",
       "      <th></th>\n",
       "      <th>Unnamed: 0</th>\n",
       "      <th>BOROUGH</th>\n",
       "      <th>BLOCK</th>\n",
       "      <th>LOT</th>\n",
       "      <th>ZIP CODE</th>\n",
       "      <th>RESIDENTIAL UNITS</th>\n",
       "      <th>COMMERCIAL UNITS</th>\n",
       "      <th>TOTAL UNITS</th>\n",
       "      <th>YEAR BUILT</th>\n",
       "      <th>TAX CLASS AT TIME OF SALE</th>\n",
       "      <th>SALE PRICE</th>\n",
       "    </tr>\n",
       "  </thead>\n",
       "  <tbody>\n",
       "    <tr>\n",
       "      <th>count</th>\n",
       "      <td>60712.000000</td>\n",
       "      <td>60712.000000</td>\n",
       "      <td>60712.000000</td>\n",
       "      <td>60712.000000</td>\n",
       "      <td>60712.000000</td>\n",
       "      <td>60712.000000</td>\n",
       "      <td>60712.000000</td>\n",
       "      <td>60712.000000</td>\n",
       "      <td>60712.000000</td>\n",
       "      <td>60712.000000</td>\n",
       "      <td>6.071200e+04</td>\n",
       "    </tr>\n",
       "    <tr>\n",
       "      <th>mean</th>\n",
       "      <td>10182.456467</td>\n",
       "      <td>3.226216</td>\n",
       "      <td>4639.536270</td>\n",
       "      <td>365.573956</td>\n",
       "      <td>10916.089752</td>\n",
       "      <td>2.757511</td>\n",
       "      <td>0.268925</td>\n",
       "      <td>3.059000</td>\n",
       "      <td>1951.350392</td>\n",
       "      <td>1.498847</td>\n",
       "      <td>1.549936e+06</td>\n",
       "    </tr>\n",
       "    <tr>\n",
       "      <th>std</th>\n",
       "      <td>7410.989908</td>\n",
       "      <td>1.199734</td>\n",
       "      <td>3686.221825</td>\n",
       "      <td>604.644249</td>\n",
       "      <td>605.756029</td>\n",
       "      <td>19.649655</td>\n",
       "      <td>10.281249</td>\n",
       "      <td>22.306627</td>\n",
       "      <td>37.034456</td>\n",
       "      <td>0.843349</td>\n",
       "      <td>1.200780e+07</td>\n",
       "    </tr>\n",
       "    <tr>\n",
       "      <th>min</th>\n",
       "      <td>4.000000</td>\n",
       "      <td>1.000000</td>\n",
       "      <td>1.000000</td>\n",
       "      <td>1.000000</td>\n",
       "      <td>0.000000</td>\n",
       "      <td>0.000000</td>\n",
       "      <td>0.000000</td>\n",
       "      <td>1.000000</td>\n",
       "      <td>1680.000000</td>\n",
       "      <td>1.000000</td>\n",
       "      <td>1.000000e+00</td>\n",
       "    </tr>\n",
       "    <tr>\n",
       "      <th>25%</th>\n",
       "      <td>3910.000000</td>\n",
       "      <td>3.000000</td>\n",
       "      <td>1512.750000</td>\n",
       "      <td>25.000000</td>\n",
       "      <td>10314.000000</td>\n",
       "      <td>1.000000</td>\n",
       "      <td>0.000000</td>\n",
       "      <td>1.000000</td>\n",
       "      <td>1920.000000</td>\n",
       "      <td>1.000000</td>\n",
       "      <td>4.825916e+05</td>\n",
       "    </tr>\n",
       "    <tr>\n",
       "      <th>50%</th>\n",
       "      <td>8245.000000</td>\n",
       "      <td>3.000000</td>\n",
       "      <td>3972.000000</td>\n",
       "      <td>53.000000</td>\n",
       "      <td>11215.000000</td>\n",
       "      <td>1.000000</td>\n",
       "      <td>0.000000</td>\n",
       "      <td>1.000000</td>\n",
       "      <td>1940.000000</td>\n",
       "      <td>1.000000</td>\n",
       "      <td>7.308558e+05</td>\n",
       "    </tr>\n",
       "    <tr>\n",
       "      <th>75%</th>\n",
       "      <td>16222.000000</td>\n",
       "      <td>4.000000</td>\n",
       "      <td>6749.000000</td>\n",
       "      <td>655.500000</td>\n",
       "      <td>11360.000000</td>\n",
       "      <td>2.000000</td>\n",
       "      <td>0.000000</td>\n",
       "      <td>2.000000</td>\n",
       "      <td>1986.000000</td>\n",
       "      <td>2.000000</td>\n",
       "      <td>1.217947e+06</td>\n",
       "    </tr>\n",
       "    <tr>\n",
       "      <th>max</th>\n",
       "      <td>26739.000000</td>\n",
       "      <td>5.000000</td>\n",
       "      <td>16322.000000</td>\n",
       "      <td>8160.000000</td>\n",
       "      <td>11694.000000</td>\n",
       "      <td>1844.000000</td>\n",
       "      <td>2261.000000</td>\n",
       "      <td>2261.000000</td>\n",
       "      <td>2017.000000</td>\n",
       "      <td>4.000000</td>\n",
       "      <td>2.210000e+09</td>\n",
       "    </tr>\n",
       "  </tbody>\n",
       "</table>\n",
       "</div>"
      ],
      "text/plain": [
       "         Unnamed: 0       BOROUGH         BLOCK           LOT      ZIP CODE  \\\n",
       "count  60712.000000  60712.000000  60712.000000  60712.000000  60712.000000   \n",
       "mean   10182.456467      3.226216   4639.536270    365.573956  10916.089752   \n",
       "std     7410.989908      1.199734   3686.221825    604.644249    605.756029   \n",
       "min        4.000000      1.000000      1.000000      1.000000      0.000000   \n",
       "25%     3910.000000      3.000000   1512.750000     25.000000  10314.000000   \n",
       "50%     8245.000000      3.000000   3972.000000     53.000000  11215.000000   \n",
       "75%    16222.000000      4.000000   6749.000000    655.500000  11360.000000   \n",
       "max    26739.000000      5.000000  16322.000000   8160.000000  11694.000000   \n",
       "\n",
       "       RESIDENTIAL UNITS  COMMERCIAL UNITS   TOTAL UNITS    YEAR BUILT  \\\n",
       "count       60712.000000      60712.000000  60712.000000  60712.000000   \n",
       "mean            2.757511          0.268925      3.059000   1951.350392   \n",
       "std            19.649655         10.281249     22.306627     37.034456   \n",
       "min             0.000000          0.000000      1.000000   1680.000000   \n",
       "25%             1.000000          0.000000      1.000000   1920.000000   \n",
       "50%             1.000000          0.000000      1.000000   1940.000000   \n",
       "75%             2.000000          0.000000      2.000000   1986.000000   \n",
       "max          1844.000000       2261.000000   2261.000000   2017.000000   \n",
       "\n",
       "       TAX CLASS AT TIME OF SALE    SALE PRICE  \n",
       "count               60712.000000  6.071200e+04  \n",
       "mean                    1.498847  1.549936e+06  \n",
       "std                     0.843349  1.200780e+07  \n",
       "min                     1.000000  1.000000e+00  \n",
       "25%                     1.000000  4.825916e+05  \n",
       "50%                     1.000000  7.308558e+05  \n",
       "75%                     2.000000  1.217947e+06  \n",
       "max                     4.000000  2.210000e+09  "
      ]
     },
     "execution_count": 8,
     "metadata": {},
     "output_type": "execute_result"
    }
   ],
   "source": [
    "# remove data if built year and total units are equal to 0\n",
    "data = data.loc[(data[\"YEAR BUILT\"] > 0) & (data[\"TOTAL UNITS\"] > 0)]\n",
    "data.describe()"
   ]
  },
  {
   "cell_type": "code",
   "execution_count": 10,
   "metadata": {},
   "outputs": [
    {
     "data": {
      "text/plain": [
       "(60712, 22)"
      ]
     },
     "execution_count": 10,
     "metadata": {},
     "output_type": "execute_result"
    }
   ],
   "source": [
    "data.shape"
   ]
  },
  {
   "cell_type": "code",
   "execution_count": 11,
   "metadata": {},
   "outputs": [
    {
     "name": "stdout",
     "output_type": "stream",
     "text": [
      "There are 25807\t unit 'Unnamed: 0'\t Type: int64\n",
      "There are 5\t unit 'BOROUGH'\t Type: int64\n",
      "There are 252\t unit 'NEIGHBORHOOD'\t Type: object\n",
      "There are 44\t unit 'BUILDING CLASS CATEGORY'\t Type: object\n",
      "There are 9\t unit 'TAX CLASS AT PRESENT'\t Type: object\n",
      "There are 11295\t unit 'BLOCK'\t Type: int64\n",
      "There are 2220\t unit 'LOT'\t Type: int64\n",
      "There are 1\t unit 'EASE-MENT'\t Type: object\n",
      "There are 153\t unit 'BUILDING CLASS AT PRESENT'\t Type: object\n",
      "There are 47432\t unit 'ADDRESS'\t Type: object\n",
      "There are 3403\t unit 'APARTMENT NUMBER'\t Type: object\n",
      "There are 184\t unit 'ZIP CODE'\t Type: int64\n",
      "There are 176\t unit 'RESIDENTIAL UNITS'\t Type: int64\n",
      "There are 55\t unit 'COMMERCIAL UNITS'\t Type: int64\n",
      "There are 190\t unit 'TOTAL UNITS'\t Type: int64\n",
      "There are 5680\t unit 'LAND SQUARE FEET'\t Type: object\n",
      "There are 5659\t unit 'GROSS SQUARE FEET'\t Type: object\n",
      "There are 150\t unit 'YEAR BUILT'\t Type: int64\n",
      "There are 3\t unit 'TAX CLASS AT TIME OF SALE'\t Type: int64\n",
      "There are 153\t unit 'BUILDING CLASS AT TIME OF SALE'\t Type: object\n",
      "There are 8173\t unit 'SALE PRICE'\t Type: float64\n",
      "There are 364\t unit 'SALE DATE'\t Type: object\n"
     ]
    }
   ],
   "source": [
    "# Feature selection\n",
    "for col in data.columns:\n",
    "    size = len(list(set(data[col].values)))\n",
    "    print(f\"There are {size}\\t unit '{col}'\\t Type: {data[col].dtype}\")"
   ]
  },
  {
   "cell_type": "code",
   "execution_count": 17,
   "metadata": {},
   "outputs": [
    {
     "data": {
      "text/html": [
       "<div>\n",
       "<style scoped>\n",
       "    .dataframe tbody tr th:only-of-type {\n",
       "        vertical-align: middle;\n",
       "    }\n",
       "\n",
       "    .dataframe tbody tr th {\n",
       "        vertical-align: top;\n",
       "    }\n",
       "\n",
       "    .dataframe thead th {\n",
       "        text-align: right;\n",
       "    }\n",
       "</style>\n",
       "<table border=\"1\" class=\"dataframe\">\n",
       "  <thead>\n",
       "    <tr style=\"text-align: right;\">\n",
       "      <th></th>\n",
       "      <th>BOROUGH</th>\n",
       "      <th>BLOCK</th>\n",
       "      <th>LOT</th>\n",
       "      <th>ZIP CODE</th>\n",
       "      <th>RESIDENTIAL UNITS</th>\n",
       "      <th>COMMERCIAL UNITS</th>\n",
       "      <th>TOTAL UNITS</th>\n",
       "      <th>YEAR BUILT</th>\n",
       "      <th>TAX CLASS AT TIME OF SALE</th>\n",
       "      <th>SALE PRICE</th>\n",
       "    </tr>\n",
       "  </thead>\n",
       "  <tbody>\n",
       "    <tr>\n",
       "      <th>count</th>\n",
       "      <td>60712.000000</td>\n",
       "      <td>60712.000000</td>\n",
       "      <td>60712.000000</td>\n",
       "      <td>60712.000000</td>\n",
       "      <td>60712.000000</td>\n",
       "      <td>60712.000000</td>\n",
       "      <td>60712.000000</td>\n",
       "      <td>60712.000000</td>\n",
       "      <td>60712.000000</td>\n",
       "      <td>6.071200e+04</td>\n",
       "    </tr>\n",
       "    <tr>\n",
       "      <th>mean</th>\n",
       "      <td>3.226216</td>\n",
       "      <td>4639.536270</td>\n",
       "      <td>365.573956</td>\n",
       "      <td>10916.089752</td>\n",
       "      <td>2.757511</td>\n",
       "      <td>0.268925</td>\n",
       "      <td>3.059000</td>\n",
       "      <td>1951.350392</td>\n",
       "      <td>1.498847</td>\n",
       "      <td>1.549935e+06</td>\n",
       "    </tr>\n",
       "    <tr>\n",
       "      <th>std</th>\n",
       "      <td>1.199734</td>\n",
       "      <td>3686.221825</td>\n",
       "      <td>604.644249</td>\n",
       "      <td>605.756029</td>\n",
       "      <td>19.649655</td>\n",
       "      <td>10.281249</td>\n",
       "      <td>22.306627</td>\n",
       "      <td>37.034456</td>\n",
       "      <td>0.843349</td>\n",
       "      <td>1.200780e+07</td>\n",
       "    </tr>\n",
       "    <tr>\n",
       "      <th>min</th>\n",
       "      <td>1.000000</td>\n",
       "      <td>1.000000</td>\n",
       "      <td>1.000000</td>\n",
       "      <td>0.000000</td>\n",
       "      <td>0.000000</td>\n",
       "      <td>0.000000</td>\n",
       "      <td>1.000000</td>\n",
       "      <td>1680.000000</td>\n",
       "      <td>1.000000</td>\n",
       "      <td>1.000000e+00</td>\n",
       "    </tr>\n",
       "    <tr>\n",
       "      <th>25%</th>\n",
       "      <td>3.000000</td>\n",
       "      <td>1512.750000</td>\n",
       "      <td>25.000000</td>\n",
       "      <td>10314.000000</td>\n",
       "      <td>1.000000</td>\n",
       "      <td>0.000000</td>\n",
       "      <td>1.000000</td>\n",
       "      <td>1920.000000</td>\n",
       "      <td>1.000000</td>\n",
       "      <td>4.825910e+05</td>\n",
       "    </tr>\n",
       "    <tr>\n",
       "      <th>50%</th>\n",
       "      <td>3.000000</td>\n",
       "      <td>3972.000000</td>\n",
       "      <td>53.000000</td>\n",
       "      <td>11215.000000</td>\n",
       "      <td>1.000000</td>\n",
       "      <td>0.000000</td>\n",
       "      <td>1.000000</td>\n",
       "      <td>1940.000000</td>\n",
       "      <td>1.000000</td>\n",
       "      <td>7.308550e+05</td>\n",
       "    </tr>\n",
       "    <tr>\n",
       "      <th>75%</th>\n",
       "      <td>4.000000</td>\n",
       "      <td>6749.000000</td>\n",
       "      <td>655.500000</td>\n",
       "      <td>11360.000000</td>\n",
       "      <td>2.000000</td>\n",
       "      <td>0.000000</td>\n",
       "      <td>2.000000</td>\n",
       "      <td>1986.000000</td>\n",
       "      <td>2.000000</td>\n",
       "      <td>1.217946e+06</td>\n",
       "    </tr>\n",
       "    <tr>\n",
       "      <th>max</th>\n",
       "      <td>5.000000</td>\n",
       "      <td>16322.000000</td>\n",
       "      <td>8160.000000</td>\n",
       "      <td>11694.000000</td>\n",
       "      <td>1844.000000</td>\n",
       "      <td>2261.000000</td>\n",
       "      <td>2261.000000</td>\n",
       "      <td>2017.000000</td>\n",
       "      <td>4.000000</td>\n",
       "      <td>2.210000e+09</td>\n",
       "    </tr>\n",
       "  </tbody>\n",
       "</table>\n",
       "</div>"
      ],
      "text/plain": [
       "            BOROUGH         BLOCK           LOT      ZIP CODE  \\\n",
       "count  60712.000000  60712.000000  60712.000000  60712.000000   \n",
       "mean       3.226216   4639.536270    365.573956  10916.089752   \n",
       "std        1.199734   3686.221825    604.644249    605.756029   \n",
       "min        1.000000      1.000000      1.000000      0.000000   \n",
       "25%        3.000000   1512.750000     25.000000  10314.000000   \n",
       "50%        3.000000   3972.000000     53.000000  11215.000000   \n",
       "75%        4.000000   6749.000000    655.500000  11360.000000   \n",
       "max        5.000000  16322.000000   8160.000000  11694.000000   \n",
       "\n",
       "       RESIDENTIAL UNITS  COMMERCIAL UNITS   TOTAL UNITS    YEAR BUILT  \\\n",
       "count       60712.000000      60712.000000  60712.000000  60712.000000   \n",
       "mean            2.757511          0.268925      3.059000   1951.350392   \n",
       "std            19.649655         10.281249     22.306627     37.034456   \n",
       "min             0.000000          0.000000      1.000000   1680.000000   \n",
       "25%             1.000000          0.000000      1.000000   1920.000000   \n",
       "50%             1.000000          0.000000      1.000000   1940.000000   \n",
       "75%             2.000000          0.000000      2.000000   1986.000000   \n",
       "max          1844.000000       2261.000000   2261.000000   2017.000000   \n",
       "\n",
       "       TAX CLASS AT TIME OF SALE    SALE PRICE  \n",
       "count               60712.000000  6.071200e+04  \n",
       "mean                    1.498847  1.549935e+06  \n",
       "std                     0.843349  1.200780e+07  \n",
       "min                     1.000000  1.000000e+00  \n",
       "25%                     1.000000  4.825910e+05  \n",
       "50%                     1.000000  7.308550e+05  \n",
       "75%                     2.000000  1.217946e+06  \n",
       "max                     4.000000  2.210000e+09  "
      ]
     },
     "execution_count": 17,
     "metadata": {},
     "output_type": "execute_result"
    }
   ],
   "source": [
    "data_train = data.drop(['Unnamed: 0', 'EASE-MENT', 'APARTMENT NUMBER', 'SALE DATE'], axis=1)\n",
    "data_train.describe()"
   ]
  },
  {
   "cell_type": "code",
   "execution_count": 18,
   "metadata": {},
   "outputs": [
    {
     "data": {
      "text/html": [
       "<div>\n",
       "<style scoped>\n",
       "    .dataframe tbody tr th:only-of-type {\n",
       "        vertical-align: middle;\n",
       "    }\n",
       "\n",
       "    .dataframe tbody tr th {\n",
       "        vertical-align: top;\n",
       "    }\n",
       "\n",
       "    .dataframe thead th {\n",
       "        text-align: right;\n",
       "    }\n",
       "</style>\n",
       "<table border=\"1\" class=\"dataframe\">\n",
       "  <thead>\n",
       "    <tr style=\"text-align: right;\">\n",
       "      <th></th>\n",
       "      <th>BOROUGH</th>\n",
       "      <th>NEIGHBORHOOD</th>\n",
       "      <th>BUILDING CLASS CATEGORY</th>\n",
       "      <th>TAX CLASS AT PRESENT</th>\n",
       "      <th>BLOCK</th>\n",
       "      <th>LOT</th>\n",
       "      <th>BUILDING CLASS AT PRESENT</th>\n",
       "      <th>ADDRESS</th>\n",
       "      <th>ZIP CODE</th>\n",
       "      <th>RESIDENTIAL UNITS</th>\n",
       "      <th>COMMERCIAL UNITS</th>\n",
       "      <th>TOTAL UNITS</th>\n",
       "      <th>LAND SQUARE FEET</th>\n",
       "      <th>GROSS SQUARE FEET</th>\n",
       "      <th>YEAR BUILT</th>\n",
       "      <th>TAX CLASS AT TIME OF SALE</th>\n",
       "      <th>BUILDING CLASS AT TIME OF SALE</th>\n",
       "      <th>SALE PRICE</th>\n",
       "    </tr>\n",
       "  </thead>\n",
       "  <tbody>\n",
       "    <tr>\n",
       "      <th>0</th>\n",
       "      <td>1</td>\n",
       "      <td>ALPHABET CITY</td>\n",
       "      <td>07 RENTALS - WALKUP APARTMENTS</td>\n",
       "      <td>2A</td>\n",
       "      <td>392</td>\n",
       "      <td>6</td>\n",
       "      <td>C2</td>\n",
       "      <td>153 AVENUE B</td>\n",
       "      <td>10009</td>\n",
       "      <td>5</td>\n",
       "      <td>0</td>\n",
       "      <td>5</td>\n",
       "      <td>1633</td>\n",
       "      <td>6440</td>\n",
       "      <td>1900</td>\n",
       "      <td>2</td>\n",
       "      <td>C2</td>\n",
       "      <td>6625000</td>\n",
       "    </tr>\n",
       "    <tr>\n",
       "      <th>1</th>\n",
       "      <td>1</td>\n",
       "      <td>ALPHABET CITY</td>\n",
       "      <td>07 RENTALS - WALKUP APARTMENTS</td>\n",
       "      <td>2</td>\n",
       "      <td>399</td>\n",
       "      <td>26</td>\n",
       "      <td>C7</td>\n",
       "      <td>234 EAST 4TH   STREET</td>\n",
       "      <td>10009</td>\n",
       "      <td>28</td>\n",
       "      <td>3</td>\n",
       "      <td>31</td>\n",
       "      <td>4616</td>\n",
       "      <td>18690</td>\n",
       "      <td>1900</td>\n",
       "      <td>2</td>\n",
       "      <td>C7</td>\n",
       "      <td>1968964</td>\n",
       "    </tr>\n",
       "    <tr>\n",
       "      <th>2</th>\n",
       "      <td>1</td>\n",
       "      <td>ALPHABET CITY</td>\n",
       "      <td>07 RENTALS - WALKUP APARTMENTS</td>\n",
       "      <td>2</td>\n",
       "      <td>399</td>\n",
       "      <td>39</td>\n",
       "      <td>C7</td>\n",
       "      <td>197 EAST 3RD   STREET</td>\n",
       "      <td>10009</td>\n",
       "      <td>16</td>\n",
       "      <td>1</td>\n",
       "      <td>17</td>\n",
       "      <td>2212</td>\n",
       "      <td>7803</td>\n",
       "      <td>1900</td>\n",
       "      <td>2</td>\n",
       "      <td>C7</td>\n",
       "      <td>1968964</td>\n",
       "    </tr>\n",
       "    <tr>\n",
       "      <th>3</th>\n",
       "      <td>1</td>\n",
       "      <td>ALPHABET CITY</td>\n",
       "      <td>07 RENTALS - WALKUP APARTMENTS</td>\n",
       "      <td>2B</td>\n",
       "      <td>402</td>\n",
       "      <td>21</td>\n",
       "      <td>C4</td>\n",
       "      <td>154 EAST 7TH STREET</td>\n",
       "      <td>10009</td>\n",
       "      <td>10</td>\n",
       "      <td>0</td>\n",
       "      <td>10</td>\n",
       "      <td>2272</td>\n",
       "      <td>6794</td>\n",
       "      <td>1913</td>\n",
       "      <td>2</td>\n",
       "      <td>C4</td>\n",
       "      <td>3936272</td>\n",
       "    </tr>\n",
       "    <tr>\n",
       "      <th>4</th>\n",
       "      <td>1</td>\n",
       "      <td>ALPHABET CITY</td>\n",
       "      <td>07 RENTALS - WALKUP APARTMENTS</td>\n",
       "      <td>2A</td>\n",
       "      <td>404</td>\n",
       "      <td>55</td>\n",
       "      <td>C2</td>\n",
       "      <td>301 EAST 10TH   STREET</td>\n",
       "      <td>10009</td>\n",
       "      <td>6</td>\n",
       "      <td>0</td>\n",
       "      <td>6</td>\n",
       "      <td>2369</td>\n",
       "      <td>4615</td>\n",
       "      <td>1900</td>\n",
       "      <td>2</td>\n",
       "      <td>C2</td>\n",
       "      <td>8000000</td>\n",
       "    </tr>\n",
       "    <tr>\n",
       "      <th>...</th>\n",
       "      <td>...</td>\n",
       "      <td>...</td>\n",
       "      <td>...</td>\n",
       "      <td>...</td>\n",
       "      <td>...</td>\n",
       "      <td>...</td>\n",
       "      <td>...</td>\n",
       "      <td>...</td>\n",
       "      <td>...</td>\n",
       "      <td>...</td>\n",
       "      <td>...</td>\n",
       "      <td>...</td>\n",
       "      <td>...</td>\n",
       "      <td>...</td>\n",
       "      <td>...</td>\n",
       "      <td>...</td>\n",
       "      <td>...</td>\n",
       "      <td>...</td>\n",
       "    </tr>\n",
       "    <tr>\n",
       "      <th>84543</th>\n",
       "      <td>5</td>\n",
       "      <td>WOODROW</td>\n",
       "      <td>02 TWO FAMILY DWELLINGS</td>\n",
       "      <td>1</td>\n",
       "      <td>7349</td>\n",
       "      <td>34</td>\n",
       "      <td>B9</td>\n",
       "      <td>37 QUAIL LANE</td>\n",
       "      <td>10309</td>\n",
       "      <td>2</td>\n",
       "      <td>0</td>\n",
       "      <td>2</td>\n",
       "      <td>2400</td>\n",
       "      <td>2575</td>\n",
       "      <td>1998</td>\n",
       "      <td>1</td>\n",
       "      <td>B9</td>\n",
       "      <td>450000</td>\n",
       "    </tr>\n",
       "    <tr>\n",
       "      <th>84544</th>\n",
       "      <td>5</td>\n",
       "      <td>WOODROW</td>\n",
       "      <td>02 TWO FAMILY DWELLINGS</td>\n",
       "      <td>1</td>\n",
       "      <td>7349</td>\n",
       "      <td>78</td>\n",
       "      <td>B9</td>\n",
       "      <td>32 PHEASANT LANE</td>\n",
       "      <td>10309</td>\n",
       "      <td>2</td>\n",
       "      <td>0</td>\n",
       "      <td>2</td>\n",
       "      <td>2498</td>\n",
       "      <td>2377</td>\n",
       "      <td>1998</td>\n",
       "      <td>1</td>\n",
       "      <td>B9</td>\n",
       "      <td>550000</td>\n",
       "    </tr>\n",
       "    <tr>\n",
       "      <th>84545</th>\n",
       "      <td>5</td>\n",
       "      <td>WOODROW</td>\n",
       "      <td>02 TWO FAMILY DWELLINGS</td>\n",
       "      <td>1</td>\n",
       "      <td>7351</td>\n",
       "      <td>60</td>\n",
       "      <td>B2</td>\n",
       "      <td>49 PITNEY AVENUE</td>\n",
       "      <td>10309</td>\n",
       "      <td>2</td>\n",
       "      <td>0</td>\n",
       "      <td>2</td>\n",
       "      <td>4000</td>\n",
       "      <td>1496</td>\n",
       "      <td>1925</td>\n",
       "      <td>1</td>\n",
       "      <td>B2</td>\n",
       "      <td>460000</td>\n",
       "    </tr>\n",
       "    <tr>\n",
       "      <th>84546</th>\n",
       "      <td>5</td>\n",
       "      <td>WOODROW</td>\n",
       "      <td>22 STORE BUILDINGS</td>\n",
       "      <td>4</td>\n",
       "      <td>7100</td>\n",
       "      <td>28</td>\n",
       "      <td>K6</td>\n",
       "      <td>2730 ARTHUR KILL ROAD</td>\n",
       "      <td>10309</td>\n",
       "      <td>0</td>\n",
       "      <td>7</td>\n",
       "      <td>7</td>\n",
       "      <td>208033</td>\n",
       "      <td>64117</td>\n",
       "      <td>2001</td>\n",
       "      <td>4</td>\n",
       "      <td>K6</td>\n",
       "      <td>11693337</td>\n",
       "    </tr>\n",
       "    <tr>\n",
       "      <th>84547</th>\n",
       "      <td>5</td>\n",
       "      <td>WOODROW</td>\n",
       "      <td>35 INDOOR PUBLIC AND CULTURAL FACILITIES</td>\n",
       "      <td>4</td>\n",
       "      <td>7105</td>\n",
       "      <td>679</td>\n",
       "      <td>P9</td>\n",
       "      <td>155 CLAY PIT ROAD</td>\n",
       "      <td>10309</td>\n",
       "      <td>0</td>\n",
       "      <td>1</td>\n",
       "      <td>1</td>\n",
       "      <td>10796</td>\n",
       "      <td>2400</td>\n",
       "      <td>2006</td>\n",
       "      <td>4</td>\n",
       "      <td>P9</td>\n",
       "      <td>69300</td>\n",
       "    </tr>\n",
       "  </tbody>\n",
       "</table>\n",
       "<p>60712 rows × 18 columns</p>\n",
       "</div>"
      ],
      "text/plain": [
       "       BOROUGH   NEIGHBORHOOD                      BUILDING CLASS CATEGORY  \\\n",
       "0            1  ALPHABET CITY  07 RENTALS - WALKUP APARTMENTS                \n",
       "1            1  ALPHABET CITY  07 RENTALS - WALKUP APARTMENTS                \n",
       "2            1  ALPHABET CITY  07 RENTALS - WALKUP APARTMENTS                \n",
       "3            1  ALPHABET CITY  07 RENTALS - WALKUP APARTMENTS                \n",
       "4            1  ALPHABET CITY  07 RENTALS - WALKUP APARTMENTS                \n",
       "...        ...            ...                                          ...   \n",
       "84543        5        WOODROW  02 TWO FAMILY DWELLINGS                       \n",
       "84544        5        WOODROW  02 TWO FAMILY DWELLINGS                       \n",
       "84545        5        WOODROW  02 TWO FAMILY DWELLINGS                       \n",
       "84546        5        WOODROW  22 STORE BUILDINGS                            \n",
       "84547        5        WOODROW  35 INDOOR PUBLIC AND CULTURAL FACILITIES      \n",
       "\n",
       "      TAX CLASS AT PRESENT  BLOCK  LOT BUILDING CLASS AT PRESENT  \\\n",
       "0                       2A    392    6                        C2   \n",
       "1                        2    399   26                        C7   \n",
       "2                        2    399   39                        C7   \n",
       "3                       2B    402   21                        C4   \n",
       "4                       2A    404   55                        C2   \n",
       "...                    ...    ...  ...                       ...   \n",
       "84543                    1   7349   34                        B9   \n",
       "84544                    1   7349   78                        B9   \n",
       "84545                    1   7351   60                        B2   \n",
       "84546                    4   7100   28                        K6   \n",
       "84547                    4   7105  679                        P9   \n",
       "\n",
       "                      ADDRESS  ZIP CODE  RESIDENTIAL UNITS  COMMERCIAL UNITS  \\\n",
       "0                153 AVENUE B     10009                  5                 0   \n",
       "1       234 EAST 4TH   STREET     10009                 28                 3   \n",
       "2       197 EAST 3RD   STREET     10009                 16                 1   \n",
       "3         154 EAST 7TH STREET     10009                 10                 0   \n",
       "4      301 EAST 10TH   STREET     10009                  6                 0   \n",
       "...                       ...       ...                ...               ...   \n",
       "84543           37 QUAIL LANE     10309                  2                 0   \n",
       "84544        32 PHEASANT LANE     10309                  2                 0   \n",
       "84545        49 PITNEY AVENUE     10309                  2                 0   \n",
       "84546   2730 ARTHUR KILL ROAD     10309                  0                 7   \n",
       "84547       155 CLAY PIT ROAD     10309                  0                 1   \n",
       "\n",
       "       TOTAL UNITS LAND SQUARE FEET GROSS SQUARE FEET  YEAR BUILT  \\\n",
       "0                5             1633              6440        1900   \n",
       "1               31             4616             18690        1900   \n",
       "2               17             2212              7803        1900   \n",
       "3               10             2272              6794        1913   \n",
       "4                6             2369              4615        1900   \n",
       "...            ...              ...               ...         ...   \n",
       "84543            2             2400              2575        1998   \n",
       "84544            2             2498              2377        1998   \n",
       "84545            2             4000              1496        1925   \n",
       "84546            7           208033             64117        2001   \n",
       "84547            1            10796              2400        2006   \n",
       "\n",
       "       TAX CLASS AT TIME OF SALE BUILDING CLASS AT TIME OF SALE  SALE PRICE  \n",
       "0                              2                             C2     6625000  \n",
       "1                              2                             C7     1968964  \n",
       "2                              2                             C7     1968964  \n",
       "3                              2                             C4     3936272  \n",
       "4                              2                             C2     8000000  \n",
       "...                          ...                            ...         ...  \n",
       "84543                          1                             B9      450000  \n",
       "84544                          1                             B9      550000  \n",
       "84545                          1                             B2      460000  \n",
       "84546                          4                             K6    11693337  \n",
       "84547                          4                             P9       69300  \n",
       "\n",
       "[60712 rows x 18 columns]"
      ]
     },
     "execution_count": 18,
     "metadata": {},
     "output_type": "execute_result"
    }
   ],
   "source": [
    "data_train"
   ]
  },
  {
   "cell_type": "code",
   "execution_count": 19,
   "metadata": {},
   "outputs": [
    {
     "name": "stdout",
     "output_type": "stream",
     "text": [
      "<class 'pandas.core.frame.DataFrame'>\n",
      "Int64Index: 60712 entries, 0 to 84547\n",
      "Data columns (total 18 columns):\n",
      " #   Column                          Non-Null Count  Dtype \n",
      "---  ------                          --------------  ----- \n",
      " 0   BOROUGH                         60712 non-null  int64 \n",
      " 1   NEIGHBORHOOD                    60712 non-null  object\n",
      " 2   BUILDING CLASS CATEGORY         60712 non-null  object\n",
      " 3   TAX CLASS AT PRESENT            60712 non-null  object\n",
      " 4   BLOCK                           60712 non-null  int64 \n",
      " 5   LOT                             60712 non-null  int64 \n",
      " 6   BUILDING CLASS AT PRESENT       60712 non-null  object\n",
      " 7   ADDRESS                         60712 non-null  object\n",
      " 8   ZIP CODE                        60712 non-null  int64 \n",
      " 9   RESIDENTIAL UNITS               60712 non-null  int64 \n",
      " 10  COMMERCIAL UNITS                60712 non-null  int64 \n",
      " 11  TOTAL UNITS                     60712 non-null  int64 \n",
      " 12  LAND SQUARE FEET                60712 non-null  object\n",
      " 13  GROSS SQUARE FEET               60712 non-null  object\n",
      " 14  YEAR BUILT                      60712 non-null  int64 \n",
      " 15  TAX CLASS AT TIME OF SALE       60712 non-null  int64 \n",
      " 16  BUILDING CLASS AT TIME OF SALE  60712 non-null  object\n",
      " 17  SALE PRICE                      60712 non-null  int64 \n",
      "dtypes: int64(10), object(8)\n",
      "memory usage: 8.8+ MB\n"
     ]
    }
   ],
   "source": [
    "data_train.info()"
   ]
  },
  {
   "cell_type": "code",
   "execution_count": 20,
   "metadata": {},
   "outputs": [
    {
     "data": {
      "text/plain": [
       "<AxesSubplot:>"
      ]
     },
     "execution_count": 20,
     "metadata": {},
     "output_type": "execute_result"
    },
    {
     "data": {
      "image/png": "[encoded data removed]",
      "text/plain": [
       "<Figure size 1080x648 with 2 Axes>"
      ]
     },
     "metadata": {
      "needs_background": "light"
     },
     "output_type": "display_data"
    }
   ],
   "source": [
    "import seaborn as sns\n",
    "import matplotlib.pyplot as plt\n",
    "from sklearn.preprocessing import LabelEncoder\n",
    "\n",
    "le = LabelEncoder()\n",
    "data_train['NEIGHBORHOOD'] = le.fit_transform(data_train['NEIGHBORHOOD'])\n",
    "data_train['BUILDING CLASS CATEGORY'] = le.fit_transform(data_train['BUILDING CLASS CATEGORY'])\n",
    "data_train['TAX CLASS AT PRESENT'] = le.fit_transform(data_train['TAX CLASS AT PRESENT'])\n",
    "data_train['BUILDING CLASS AT PRESENT'] = le.fit_transform(data_train['BUILDING CLASS AT PRESENT'])\n",
    "data_train['ADDRESS'] = le.fit_transform(data_train['ADDRESS'])\n",
    "data_train['LAND SQUARE FEET'] = le.fit_transform(data_train['LAND SQUARE FEET'])\n",
    "data_train['GROSS SQUARE FEET'] = le.fit_transform(data_train['GROSS SQUARE FEET'])\n",
    "data_train['BUILDING CLASS AT TIME OF SALE'] = le.fit_transform(data_train['BUILDING CLASS AT TIME OF SALE'])\n",
    "\n",
    "fig = plt.figure(figsize = (15, 9))\n",
    "sns.heatmap(data_train.corr(), annot=True)"
   ]
  },
  {
   "cell_type": "code",
   "execution_count": 21,
   "metadata": {},
   "outputs": [
    {
     "name": "stdout",
     "output_type": "stream",
     "text": [
      "There are 5\t unit 'BOROUGH'\t Type: int64\n",
      "There are 252\t unit 'NEIGHBORHOOD'\t Type: object\n",
      "There are 44\t unit 'BUILDING CLASS CATEGORY'\t Type: object\n",
      "There are 9\t unit 'TAX CLASS AT PRESENT'\t Type: object\n",
      "There are 11295\t unit 'BLOCK'\t Type: int64\n",
      "There are 2220\t unit 'LOT'\t Type: int64\n",
      "There are 153\t unit 'BUILDING CLASS AT PRESENT'\t Type: object\n",
      "There are 47432\t unit 'ADDRESS'\t Type: object\n",
      "There are 184\t unit 'ZIP CODE'\t Type: int64\n",
      "There are 176\t unit 'RESIDENTIAL UNITS'\t Type: int64\n",
      "There are 55\t unit 'COMMERCIAL UNITS'\t Type: int64\n",
      "There are 190\t unit 'TOTAL UNITS'\t Type: int64\n",
      "There are 5680\t unit 'LAND SQUARE FEET'\t Type: object\n",
      "There are 5659\t unit 'GROSS SQUARE FEET'\t Type: object\n",
      "There are 150\t unit 'YEAR BUILT'\t Type: int64\n",
      "There are 3\t unit 'TAX CLASS AT TIME OF SALE'\t Type: int64\n",
      "There are 153\t unit 'BUILDING CLASS AT TIME OF SALE'\t Type: object\n",
      "There are 8173\t unit 'SALE PRICE'\t Type: int64\n"
     ]
    }
   ],
   "source": [
    "# Feature selection\n",
    "for col in data_train.columns:\n",
    "    size = len(list(set(data[col].values)))\n",
    "    print(f\"There are {size}\\t unit '{col}'\\t Type: {data[col].dtype}\")"
   ]
  },
  {
   "cell_type": "code",
   "execution_count": 36,
   "metadata": {},
   "outputs": [
    {
     "data": {
      "text/plain": [
       "['BOROUGH',\n",
       " 'ZIP CODE',\n",
       " 'RESIDENTIAL UNITS',\n",
       " 'COMMERCIAL UNITS',\n",
       " 'TOTAL UNITS',\n",
       " 'YEAR BUILT',\n",
       " 'TAX CLASS AT TIME OF SALE',\n",
       " 'NUM NEIGHBORHOOD',\n",
       " 'NUM BUILDING CLASS CATEGORY',\n",
       " 'NUM TAX CLASS AT PRESENT',\n",
       " 'NUM BUILDING CLASS AT PRESENT',\n",
       " 'NUM BUILDING CLASS AT TIME OF SALE']"
      ]
     },
     "execution_count": 36,
     "metadata": {},
     "output_type": "execute_result"
    }
   ],
   "source": [
    "selected_features = []\n",
    "# Feature selection\n",
    "for col in data_train.columns:\n",
    "    if data_train[col].dtype == int:\n",
    "        selected_features.append(col)\n",
    "selected_features"
   ]
  },
  {
   "cell_type": "code",
   "execution_count": 62,
   "metadata": {},
   "outputs": [
    {
     "name": "stderr",
     "output_type": "stream",
     "text": [
      "/tmp/ipykernel_24070/3632113648.py:1: SettingWithCopyWarning: \n",
      "A value is trying to be set on a copy of a slice from a DataFrame.\n",
      "Try using .loc[row_indexer,col_indexer] = value instead\n",
      "\n",
      "See the caveats in the documentation: https://pandas.pydata.org/pandas-docs/stable/user_guide/indexing.html#returning-a-view-versus-a-copy\n",
      "  train['SALE PRICE'] = data['SALE PRICE'].apply(int)\n"
     ]
    },
    {
     "data": {
      "text/plain": [
       "numpy.int64"
      ]
     },
     "execution_count": 62,
     "metadata": {},
     "output_type": "execute_result"
    }
   ],
   "source": [
    "train['SALE PRICE'] = data['SALE PRICE'].apply(int)\n",
    "type(train['SALE PRICE'].loc[0])"
   ]
  },
  {
   "cell_type": "code",
   "execution_count": 66,
   "metadata": {},
   "outputs": [],
   "source": [
    "train = data_train[selected_features]\n",
    "target = data['SALE PRICE'].apply(int)"
   ]
  },
  {
   "cell_type": "markdown",
   "metadata": {},
   "source": [
    "# YENI"
   ]
  },
  {
   "cell_type": "code",
   "execution_count": 24,
   "metadata": {},
   "outputs": [],
   "source": [
    "selected = [col for col in data_train.columns if col != 'SALE PRICE']\n",
    "target = data_train['SALE PRICE']\n",
    "features = data_train[selected]"
   ]
  },
  {
   "cell_type": "code",
   "execution_count": 27,
   "metadata": {},
   "outputs": [],
   "source": [
    "from sklearn.model_selection import train_test_split\n",
    "X_train, X_test, y_train, y_test = train_test_split(features, target, test_size=0.3, random_state=55)\n",
    "X_test, X_val, y_test, y_val = train_test_split(X_test, y_test, test_size=0.5, random_state=55)"
   ]
  },
  {
   "cell_type": "code",
   "execution_count": 28,
   "metadata": {},
   "outputs": [
    {
     "data": {
      "text/plain": [
       "LinearRegression()"
      ]
     },
     "execution_count": 28,
     "metadata": {},
     "output_type": "execute_result"
    }
   ],
   "source": [
    "from sklearn.linear_model import LinearRegression\n",
    "\n",
    "lr = LinearRegression()\n",
    "lr.fit(X_train, y_train)"
   ]
  },
  {
   "cell_type": "code",
   "execution_count": 29,
   "metadata": {},
   "outputs": [
    {
     "data": {
      "text/plain": [
       "0.0699321028795814"
      ]
     },
     "execution_count": 29,
     "metadata": {},
     "output_type": "execute_result"
    }
   ],
   "source": [
    "lr.score(X_test, y_test)"
   ]
  },
  {
   "cell_type": "code",
   "execution_count": 36,
   "metadata": {},
   "outputs": [
    {
     "data": {
      "text/plain": [
       "0.0699321028795814"
      ]
     },
     "execution_count": 36,
     "metadata": {},
     "output_type": "execute_result"
    }
   ],
   "source": [
    "y_pred = lr.predict(X_test)\n",
    "r2_score(y_test, y_pred)"
   ]
  },
  {
   "cell_type": "markdown",
   "metadata": {},
   "source": [
    "# random forest regressor"
   ]
  },
  {
   "cell_type": "code",
   "execution_count": 30,
   "metadata": {},
   "outputs": [
    {
     "data": {
      "text/plain": [
       "RandomForestRegressor()"
      ]
     },
     "execution_count": 30,
     "metadata": {},
     "output_type": "execute_result"
    }
   ],
   "source": [
    "from sklearn.ensemble import RandomForestRegressor\n",
    "\n",
    "rfr = RandomForestRegressor()\n",
    "rfr.fit(X_train, y_train)"
   ]
  },
  {
   "cell_type": "code",
   "execution_count": 39,
   "metadata": {},
   "outputs": [
    {
     "data": {
      "text/plain": [
       "0.7473760216741592"
      ]
     },
     "execution_count": 39,
     "metadata": {},
     "output_type": "execute_result"
    }
   ],
   "source": [
    "from sklearn.metrics import r2_score, accuracy_score\n",
    "\n",
    "\n",
    "y_pred = rfr.predict(X_test)\n",
    "r2_score(y_test, y_pred)"
   ]
  },
  {
   "cell_type": "code",
   "execution_count": null,
   "metadata": {},
   "outputs": [],
   "source": [
    "accuracy_score(y_test, y_pred)"
   ]
  },
  {
   "cell_type": "code",
   "execution_count": 34,
   "metadata": {},
   "outputs": [
    {
     "data": {
      "text/plain": [
       "21538     779837\n",
       "74014      15000\n",
       "6168      307242\n",
       "75664     450000\n",
       "76889     630651\n",
       "          ...   \n",
       "43388    1020589\n",
       "66981    1100000\n",
       "25387     995476\n",
       "5166     1645000\n",
       "4630     3578131\n",
       "Name: SALE PRICE, Length: 9107, dtype: int64"
      ]
     },
     "execution_count": 34,
     "metadata": {},
     "output_type": "execute_result"
    }
   ],
   "source": [
    "y_test"
   ]
  },
  {
   "cell_type": "markdown",
   "metadata": {},
   "source": [
    "# random forest classifier"
   ]
  },
  {
   "cell_type": "code",
   "execution_count": null,
   "metadata": {},
   "outputs": [],
   "source": [
    "from sklearn.ensemble import RandomForestClassifier\n",
    "\n",
    "rfc = RandomForestClassifier()\n",
    "rfc.fit(X_train, y_train)"
   ]
  },
  {
   "cell_type": "code",
   "execution_count": null,
   "metadata": {},
   "outputs": [],
   "source": [
    "rfc"
   ]
  }
 ],
 "metadata": {
  "kernelspec": {
   "display_name": "Python 3.8.10 64-bit ('env': venv)",
   "language": "python",
   "name": "python3810jvsc74a57bd0ed33a1742f00379b2d0f1f69f65e8cac1d98a9b2aeb218ac1ff48d24838544d4"
  },
  "language_info": {
   "codemirror_mode": {
    "name": "ipython",
    "version": 3
   },
   "file_extension": ".py",
   "mimetype": "text/x-python",
   "name": "python",
   "nbconvert_exporter": "python",
   "pygments_lexer": "ipython3",
   "version": "3.8.10"
  }
 },
 "nbformat": 4,
 "nbformat_minor": 4
}
